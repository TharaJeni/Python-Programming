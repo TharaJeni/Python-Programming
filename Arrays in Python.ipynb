{
 "cells": [
  {
   "cell_type": "markdown",
   "metadata": {},
   "source": [
    "# Arrays in Python Documentation"
   ]
  },
  {
   "cell_type": "markdown",
   "metadata": {},
   "source": [
    "## Introduction:\n",
    "\n",
    "Arrays are fundamental data structures used to store collections of elements. In Python, the NumPy library provides powerful tools for working with arrays, including support for one-dimensional (1D), two-dimensional (2D), three-dimensional (3D), and n-dimensional (nD) arrays."
   ]
  },
  {
   "cell_type": "markdown",
   "metadata": {},
   "source": [
    "## One-Dimensional (1D) Arrays:"
   ]
  },
  {
   "cell_type": "markdown",
   "metadata": {},
   "source": [
    "- **Definition**: A one-dimensional array, often referred to as a vector, is a linear collection of elements stored in contiguous memory locations.\n",
    "- **Mathematical Perspective:** In mathematics, a 1D array is akin to a vector, representing a single dimension of data. It is commonly used to store sequences of values or measurements.\n",
    "- **Accessing Elements:** Elements in a 1D array are accessed using a single index within square brackets **[index]**.\n",
    "- **Example:**"
   ]
  },
  {
   "cell_type": "code",
   "execution_count": 1,
   "metadata": {},
   "outputs": [
    {
     "name": "stdout",
     "output_type": "stream",
     "text": [
      "3\n"
     ]
    }
   ],
   "source": [
    "import numpy as np\n",
    "\n",
    "# Creating a 1D array\n",
    "arr_1d = np.array([1, 2, 3, 4, 5])\n",
    "\n",
    "# Accessing element at index 2\n",
    "element = arr_1d[2]\n",
    "print(element)  # Output: 3\n"
   ]
  },
  {
   "cell_type": "markdown",
   "metadata": {},
   "source": [
    "## Two-Dimensional (2D) Arrays:"
   ]
  },
  {
   "cell_type": "markdown",
   "metadata": {},
   "source": [
    "- **Definition**: A two-dimensional array, also known as a matrix, is a collection of elements organized into rows and columns.\n",
    "- **Mathematical Perspective:** In mathematics, a 2D array represents a two-dimensional space, often used to store data in rows and columns. It is analogous to a matrix, commonly employed in linear algebra and data analysis.\n",
    "- **Accessing Elements:** Elements in a 2D array are accessed using row and column indices within square brackets **[row_index][column_index]**.\n",
    "- **Example:**"
   ]
  },
  {
   "cell_type": "code",
   "execution_count": 2,
   "metadata": {},
   "outputs": [
    {
     "name": "stdout",
     "output_type": "stream",
     "text": [
      "6\n"
     ]
    }
   ],
   "source": [
    "import numpy as np\n",
    "\n",
    "# Creating a 2D array\n",
    "arr_2d = np.array([[1, 2, 3],\n",
    "                   [4, 5, 6],\n",
    "                   [7, 8, 9]])\n",
    "\n",
    "# Accessing element at row 1, column 2\n",
    "element = arr_2d[1][2]\n",
    "print(element)  # Output: 6\n"
   ]
  },
  {
   "cell_type": "markdown",
   "metadata": {},
   "source": [
    "## Three-Dimensional (3D) Arrays:"
   ]
  },
  {
   "cell_type": "markdown",
   "metadata": {},
   "source": [
    "- **Definition**: A three-dimensional array extends the concept of a 2D array into three dimensions, forming a cuboid-like structure.\n",
    "- **Mathematical Perspective:**  In mathematics, a 3D array represents a three-dimensional space, often used to model volumetric data or multi-dimensional arrays. It is analogous to a tensor, commonly employed in calculus, physics, and machine learning.\n",
    "- **Accessing Elements:** Elements in a 3D array are accessed using three indices within square brackets **[dimension1_index][dimension2_index][dimension3_index]**.\n",
    "- **Example:**"
   ]
  },
  {
   "cell_type": "code",
   "execution_count": 3,
   "metadata": {},
   "outputs": [
    {
     "name": "stdout",
     "output_type": "stream",
     "text": [
      "4\n"
     ]
    }
   ],
   "source": [
    "import numpy as np\n",
    "\n",
    "# Creating a 3D array\n",
    "arr_3d = np.array([[[1, 2],\n",
    "                    [3, 4]],\n",
    "                   \n",
    "                   [[5, 6],\n",
    "                    [7, 8]]])\n",
    "\n",
    "# Accessing element at depth 0, row 1, column 1\n",
    "element = arr_3d[0][1][1]\n",
    "print(element)  # Output: 4\n"
   ]
  },
  {
   "cell_type": "markdown",
   "metadata": {},
   "source": [
    "## N-Dimensional (N-D) Arrays:"
   ]
  },
  {
   "cell_type": "markdown",
   "metadata": {},
   "source": [
    "- **Definition**:An n-dimensional array extends the concept of arrays into n dimensions, allowing for the storage of multi-dimensional data.\n",
    "- **Mathematical Perspective:**  In mathematics, an n-dimensional array represents a space with an arbitrary number of dimensions. It is commonly used in various fields such as data science, image processing, and computational physics.\n",
    "- **Accessing Elements:** Elements in an n-dimensional array are accessed using multiple indices corresponding to each dimension.\n",
    "- **Example:**"
   ]
  },
  {
   "cell_type": "code",
   "execution_count": 4,
   "metadata": {},
   "outputs": [
    {
     "name": "stdout",
     "output_type": "stream",
     "text": [
      "8\n"
     ]
    }
   ],
   "source": [
    "import numpy as np\n",
    "\n",
    "# Creating an nD array (e.g., 4D array)\n",
    "arr_nd = np.array([[[[1, 2],\n",
    "                     [3, 4]],\n",
    "                    \n",
    "                    [[5, 6],\n",
    "                     [7, 8]]],\n",
    "                   \n",
    "                   [[[9, 10],\n",
    "                     [11, 12]],\n",
    "                    \n",
    "                    [[13, 14],\n",
    "                     [15, 16]]]])\n",
    "\n",
    "# Accessing element at depth 0, row 1, column 1 in the first layer\n",
    "element = arr_nd[0][1][1][1]\n",
    "print(element)  # Output: 8\n"
   ]
  },
  {
   "cell_type": "markdown",
   "metadata": {},
   "source": [
    "## Conclusion:"
   ]
  },
  {
   "cell_type": "markdown",
   "metadata": {},
   "source": [
    "Arrays are versatile data structures that play a crucial role in various computational tasks, from data manipulation to scientific computing. With the NumPy library in Python, you can efficiently work with arrays of different dimensions, enabling you to tackle a wide range of problems effectively."
   ]
  }
 ],
 "metadata": {
  "kernelspec": {
   "display_name": "Python 3",
   "language": "python",
   "name": "python3"
  },
  "language_info": {
   "codemirror_mode": {
    "name": "ipython",
    "version": 3
   },
   "file_extension": ".py",
   "mimetype": "text/x-python",
   "name": "python",
   "nbconvert_exporter": "python",
   "pygments_lexer": "ipython3",
   "version": "3.9.16"
  }
 },
 "nbformat": 4,
 "nbformat_minor": 2
}
