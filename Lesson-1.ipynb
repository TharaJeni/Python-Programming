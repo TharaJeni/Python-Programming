{
 "cells": [
  {
   "cell_type": "markdown",
   "id": "6d23d9d4-c384-4b62-9c7d-c88fd087de37",
   "metadata": {},
   "source": [
    "# Basic Of Python"
   ]
  },
  {
   "cell_type": "code",
   "execution_count": 1,
   "id": "866281a0-c7f3-4375-af05-f7b4c2ad4602",
   "metadata": {},
   "outputs": [
    {
     "data": {
      "text/plain": [
       "2"
      ]
     },
     "execution_count": 1,
     "metadata": {},
     "output_type": "execute_result"
    }
   ],
   "source": [
    "1+1"
   ]
  },
  {
   "cell_type": "code",
   "execution_count": 2,
   "id": "660d69ee-624f-4ef1-88f8-7a4f9722fb16",
   "metadata": {},
   "outputs": [
    {
     "data": {
      "text/plain": [
       "6"
      ]
     },
     "execution_count": 2,
     "metadata": {},
     "output_type": "execute_result"
    }
   ],
   "source": [
    "2*3"
   ]
  },
  {
   "cell_type": "code",
   "execution_count": 3,
   "id": "ec05562f-760b-4d64-b1dd-5e51d5b28a57",
   "metadata": {},
   "outputs": [
    {
     "data": {
      "text/plain": [
       "6.0"
      ]
     },
     "execution_count": 3,
     "metadata": {},
     "output_type": "execute_result"
    }
   ],
   "source": [
    "30/5"
   ]
  },
  {
   "cell_type": "code",
   "execution_count": 5,
   "id": "3bdde26b-ea33-415e-bca0-a90e734164d1",
   "metadata": {},
   "outputs": [
    {
     "data": {
      "text/plain": [
       "0"
      ]
     },
     "execution_count": 5,
     "metadata": {},
     "output_type": "execute_result"
    }
   ],
   "source": [
    "80%4"
   ]
  },
  {
   "cell_type": "code",
   "execution_count": 7,
   "id": "45f12785-d1f3-4fe1-b66d-07457866ede0",
   "metadata": {},
   "outputs": [
    {
     "data": {
      "text/plain": [
       "100"
      ]
     },
     "execution_count": 7,
     "metadata": {},
     "output_type": "execute_result"
    }
   ],
   "source": [
    "10**2"
   ]
  },
  {
   "cell_type": "code",
   "execution_count": 8,
   "id": "f9360be9-2661-496e-ac69-a1637e63a011",
   "metadata": {},
   "outputs": [
    {
     "data": {
      "text/plain": [
       "bool"
      ]
     },
     "execution_count": 8,
     "metadata": {},
     "output_type": "execute_result"
    }
   ],
   "source": [
    "type(True)"
   ]
  },
  {
   "cell_type": "code",
   "execution_count": 9,
   "id": "777a6ac7-f226-4bf7-852e-258f82690fee",
   "metadata": {},
   "outputs": [
    {
     "data": {
      "text/plain": [
       "str"
      ]
     },
     "execution_count": 9,
     "metadata": {},
     "output_type": "execute_result"
    }
   ],
   "source": [
    "type(\"Hi\")"
   ]
  },
  {
   "cell_type": "code",
   "execution_count": 10,
   "id": "8112caad-d669-4d3e-b879-38a12eecef62",
   "metadata": {},
   "outputs": [
    {
     "data": {
      "text/plain": [
       "'Hello'"
      ]
     },
     "execution_count": 10,
     "metadata": {},
     "output_type": "execute_result"
    }
   ],
   "source": [
    "\"Hello\""
   ]
  },
  {
   "cell_type": "code",
   "execution_count": 11,
   "id": "86d25161-b7fa-4863-8ced-f748020af71a",
   "metadata": {},
   "outputs": [],
   "source": [
    "a=2"
   ]
  },
  {
   "cell_type": "code",
   "execution_count": 12,
   "id": "b050a494-e369-4e5a-80a6-dd092744f823",
   "metadata": {},
   "outputs": [
    {
     "data": {
      "text/plain": [
       "int"
      ]
     },
     "execution_count": 12,
     "metadata": {},
     "output_type": "execute_result"
    }
   ],
   "source": [
    "type(a)"
   ]
  },
  {
   "cell_type": "markdown",
   "id": "8c474d84-adc1-4166-91a6-e4ba64ad0325",
   "metadata": {},
   "source": [
    "### Various ways of Printing"
   ]
  },
  {
   "cell_type": "code",
   "execution_count": 13,
   "id": "5dfe74e7-349c-4d18-84da-cd49d9aef843",
   "metadata": {},
   "outputs": [
    {
     "name": "stdout",
     "output_type": "stream",
     "text": [
      "Hi\n"
     ]
    }
   ],
   "source": [
    "print(\"Hi\")"
   ]
  },
  {
   "cell_type": "code",
   "execution_count": 14,
   "id": "0d4237fd-9e6f-42d7-8ceb-a88454c95d95",
   "metadata": {},
   "outputs": [],
   "source": [
    "first_name='Thara'\n",
    "last_name='Jeni'"
   ]
  },
  {
   "cell_type": "code",
   "execution_count": 15,
   "id": "827e5b44-62bf-4b30-b615-04aa99a74eb2",
   "metadata": {},
   "outputs": [
    {
     "name": "stdout",
     "output_type": "stream",
     "text": [
      "My first name is Thara and last name is Jeni\n"
     ]
    }
   ],
   "source": [
    "print(\"My first name is {} and last name is {}\".format(first_name,last_name))"
   ]
  },
  {
   "cell_type": "code",
   "execution_count": null,
   "id": "59be06b5-a1de-44c2-acea-4ffca4b8406f",
   "metadata": {},
   "outputs": [],
   "source": [
    "print(\"My First name is {first} and last name is {last}\".format(last=last_name,first=first_name))"
   ]
  }
 ],
 "metadata": {
  "kernelspec": {
   "display_name": "Python 3 (ipykernel)",
   "language": "python",
   "name": "python3"
  },
  "language_info": {
   "codemirror_mode": {
    "name": "ipython",
    "version": 3
   },
   "file_extension": ".py",
   "mimetype": "text/x-python",
   "name": "python",
   "nbconvert_exporter": "python",
   "pygments_lexer": "ipython3",
   "version": "3.11.3"
  }
 },
 "nbformat": 4,
 "nbformat_minor": 5
}
