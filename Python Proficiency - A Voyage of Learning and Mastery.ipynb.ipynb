{
 "cells": [
  {
   "cell_type": "markdown",
   "metadata": {},
   "source": [
    "# Python Programming "
   ]
  },
  {
   "cell_type": "markdown",
   "metadata": {},
   "source": [
    "### Outline:\n",
    "1. Python Data Types:\n",
    "    1. Text Type: str\n",
    "    2. Numeric Types: int,float,complex\n",
    "    3. Sequence Types: list, tuple,range\n",
    "    4. Mapping Type: dict\n",
    "    5. Set Types: set, frozenset\n",
    "    6. Boolean Type: bool\n",
    "    7. Binary Types: bytes, bytearray, memoryview\n",
    "    8. None Type: NoneType    \n",
    "2. Python Operators:\n",
    "    1. Arithmetic operators: +, -, *, /, %, **, //\n",
    "    2. Assignment Operators: =, +=, -=, *=, /=, %=, //=, **=, &=, |=, ^=, >>=, <<=, :=>>\n",
    "    3. Comparison Operators: ==, !=, >, <, >=, <=\n",
    "    4. Logical Operators: and, or, not\n",
    "    5. Identify Operators: is, is not\n",
    "    6. Membership Operators: in, not in\n",
    "    7. Bitwise Operators: & (AND), | (OR), ^ (XOR), ~ (NOT), << (Zero fill left shift), >> (Signed right shift)\n",
    "3. Python Conditional Statements: \n",
    "    - if, elif, else\n",
    "4. Python Loops: \n",
    "    - for, while\n",
    "5. Python Exception Handling: \n",
    "    - Try, Except, else, finally\n",
    "    - raise\n",
    "6. Python Functions:\n",
    "    - def function\n",
    "    - map, lambda, filter functions\n",
    "7. Python OOPS:\n",
    "    - Classes\n",
    "    - Objects\n",
    "    - Attributes\n",
    "    - Methods\n",
    "    - Constructor(\\_\\_init\\_\\_)\n",
    "    - Instance\n",
    "    - Self\n",
    "    - Inheritance\n",
    "    - Encapsulation\n",
    "    - Abstraction\n",
    "    - \\_\\_str\\_\\_ method\n",
    "8. Python Decorators\n",
    "9. Python Error Types:\n",
    "    - SyntaxError\n",
    "    - IndentationError\n",
    "    - NameError\n",
    "    - TypeError\n",
    "    - IndexError\n",
    "    - KeyError\n",
    "    - ValueError\n",
    "    - ZeroDivisionError\n",
    "    - FileNotFoundError\n",
    "    - ImportError\n",
    "10. Requests\n",
    "11. Webscraping\n",
    "12. Working with Files\n",
    "\n"
   ]
  },
  {
   "cell_type": "markdown",
   "metadata": {},
   "source": [
    "## Python Data Types"
   ]
  },
  {
   "cell_type": "markdown",
   "metadata": {},
   "source": [
    "#### Text Type: str\n",
    "- String = series of characters or data stored as text."
   ]
  },
  {
   "cell_type": "code",
   "execution_count": 1,
   "metadata": {},
   "outputs": [
    {
     "data": {
      "text/plain": [
       "'Cello'"
      ]
     },
     "execution_count": 1,
     "metadata": {},
     "output_type": "execute_result"
    }
   ],
   "source": [
    "my_string = \"Hello\"\n",
    "#---------------------------------\n",
    "# String Operations\n",
    "#----------------------------------\n",
    "# returns the string with all uppercase letters\n",
    "my_string.upper() \n",
    "# returns the length of a string\n",
    "len(my_string)\n",
    "# returns the index of the first instance of the string inside the subject string, otherwise -1\n",
    "my_string.find('l')\n",
    "# replaces any instance of the first string with the second in my_string\n",
    "my_string.replace('H','C')"
   ]
  },
  {
   "cell_type": "markdown",
   "metadata": {},
   "source": [
    "#### Numeric Types: int,float,complex\n",
    "- Integer = A whole number.\n",
    "- Float = A decimal number.\n",
    "- Complex = A real part and an imaginary part."
   ]
  },
  {
   "cell_type": "code",
   "execution_count": 2,
   "metadata": {},
   "outputs": [],
   "source": [
    "my_integer = 24\n",
    "my_float = 22.5\n",
    "my_complex = 1j\n"
   ]
  },
  {
   "cell_type": "markdown",
   "metadata": {},
   "source": [
    "#### Sequence Types: list, tuple,range\n",
    "- List = Lists are mutable, meaning their elements can be changed after creation.\n",
    "- Tuple = Tuples are immutable, meaning their elements cannot be changed after creation.\n",
    "- Range = Ranges are immutable, meaning their values cannot be changed after creation."
   ]
  },
  {
   "cell_type": "code",
   "execution_count": 3,
   "metadata": {},
   "outputs": [
    {
     "data": {
      "text/plain": [
       "False"
      ]
     },
     "execution_count": 3,
     "metadata": {},
     "output_type": "execute_result"
    }
   ],
   "source": [
    "my_list = [1,1,3.12,False, \"Hi\"]\n",
    "#------------------------------------------------\n",
    "# List Operations\n",
    "#------------------------------------------------\n",
    "# returns the length of a list\n",
    "len(my_list)\n",
    "# add multiple items to a list\n",
    "my_list.extend([\"More\",\"Items\"])\n",
    "# add a single item to a list\n",
    "my_list.append(\"Single\")\n",
    "# delete the object of a list at a specified index\n",
    "del(my_list[2])\n",
    "# clone a list\n",
    "clone = my_list[:]\n",
    "# concatenate two lists\n",
    "my_list_2 = [\"a\",\"b\",\"c\"]\n",
    "my_list_3 = my_list + my_list_2\n",
    "# calculate the sum of a list of ints or floats\n",
    "number_list = [1,2,3,4.5]\n",
    "sum(number_list)\n",
    "# check if an item is in a list, returns Boolean \n",
    "\"Hi\" in my_list\n",
    "# check if an item is not in a list, returns Boolean \n",
    "\"Hi\" not in my_list\n"
   ]
  },
  {
   "cell_type": "code",
   "execution_count": 4,
   "metadata": {},
   "outputs": [],
   "source": [
    "my_tuple = (1,3.12,False, \"Hi\")"
   ]
  },
  {
   "cell_type": "code",
   "execution_count": 5,
   "metadata": {},
   "outputs": [
    {
     "name": "stdout",
     "output_type": "stream",
     "text": [
      "0\n",
      "1\n",
      "2\n",
      "3\n",
      "4\n",
      "5\n"
     ]
    }
   ],
   "source": [
    "# produce an iterable sequence from 0 to stop-1\n",
    "my_range = range(6) # ======= range(stop) =======\n",
    "# produce an interable sequence from start to stop-1 incrementing by step\n",
    "my_range_1 = range(1,10,2) # ======= range(start,stop,step) =======\n",
    "# Note that range(6) is not the values of 0 to 6, but the values 0 to 5.\n",
    "for x in range(6):\n",
    "  print(x)"
   ]
  },
  {
   "cell_type": "markdown",
   "metadata": {},
   "source": [
    "#### Mapping Type: dict\n",
    "- Dictionary = Changeable collection of key-value pairs."
   ]
  },
  {
   "cell_type": "code",
   "execution_count": 6,
   "metadata": {},
   "outputs": [
    {
     "data": {
      "text/plain": [
       "dict_values([1, 'laptop', 'center'])"
      ]
     },
     "execution_count": 6,
     "metadata": {},
     "output_type": "execute_result"
    }
   ],
   "source": [
    "my_dict = {'banana':1,12:'laptop',(0,0):'center'}\n",
    "#---------------------------------------------------\n",
    "# dictionary operations\n",
    "#---------------------------------------------------\n",
    "# access value using key\n",
    "my_dict['banana']\n",
    "# get all keys in a dictionary as a list\n",
    "my_dict.keys()\n",
    "# get all values in a dictionary as a list\n",
    "my_dict.values()"
   ]
  },
  {
   "cell_type": "markdown",
   "metadata": {},
   "source": [
    "#### Set Types: set, frozenset\n",
    "- Set = Unordered collection of unique objects. Sets are mutable, meaning you can add or remove elements from them after creation.\n",
    "- Frozen Set = Frozensets are immutable, meaning once created, you cannot add or remove elements from them."
   ]
  },
  {
   "cell_type": "code",
   "execution_count": 7,
   "metadata": {},
   "outputs": [
    {
     "data": {
      "text/plain": [
       "False"
      ]
     },
     "execution_count": 7,
     "metadata": {},
     "output_type": "execute_result"
    }
   ],
   "source": [
    "a = {100,3.12,False, \"Bye\"}\n",
    "b = {100,3.12,\"Welcome\"}\n",
    "#---------------------------------------------\n",
    "# set operations\n",
    "#--------------------------------------------\n",
    "# convert a list to a set\n",
    "my_set = set([1,3,5])\n",
    "# add an item to a set\n",
    "a.add(4)\n",
    "# remove an item from a set\n",
    "a.remove(\"Bye\")\n",
    "# returns set-a minus set-b\n",
    "a.difference(b)\n",
    "# returns intersection of set-a and set-b\n",
    "a.intersection(b)\n",
    "# returns the union of set-a and set-b\n",
    "a.union(b)\n",
    "# returns True if set-a is a subset of set-b, false otherwise\n",
    "a.issubset(b)\n",
    "# returns True if set-a is a superset of set-b, false otherwise\n",
    "a.issuperset(b)\n"
   ]
  },
  {
   "cell_type": "code",
   "execution_count": 8,
   "metadata": {},
   "outputs": [],
   "source": [
    "my_frozenset = frozenset({\"apple\", \"banana\", \"cherry\"})"
   ]
  },
  {
   "cell_type": "markdown",
   "metadata": {},
   "source": [
    "#### Boolean Type: bool\n",
    "- Boolean = Discrete value True or False"
   ]
  },
  {
   "cell_type": "code",
   "execution_count": 9,
   "metadata": {},
   "outputs": [],
   "source": [
    "a = True\n",
    "b = False"
   ]
  },
  {
   "cell_type": "markdown",
   "metadata": {},
   "source": [
    "#### Binary Types: bytes, bytearray, memoryview"
   ]
  },
  {
   "cell_type": "markdown",
   "metadata": {},
   "source": [
    "1. bytes:\n",
    "    - Immutable: Bytes objects are immutable sequences of bytes, meaning their contents cannot be changed after creation.\n",
    "    - Syntax: Created using the bytes() constructor or a bytes literal with the b prefix.\n",
    "    - Example: b_data = b'hello'\n",
    "    - Use cases: Bytes objects are commonly used to represent sequences of bytes, such as binary data or encoded text, and they are particularly useful when dealing with network protocols or binary file formats.\n",
    "2. bytearray:\n",
    "    - Mutable: Bytearray objects are mutable sequences of bytes, meaning their contents can be changed after creation.\n",
    "    - Syntax: Created using the bytearray() constructor.\n",
    "    - Example: ba_data = bytearray(b'hello')\n",
    "    - Use cases: Bytearray objects are similar to bytes objects but provide mutability, making them useful when you need to modify the contents of a binary sequence in-place, such as when processing binary data or performing low-level operations.\n",
    "3. memoryview:\n",
    "    - Memory-efficient: Memoryview objects provide a memory-efficient view of an underlying bytes object, bytearray object, or any other object that supports the buffer protocol.\n",
    "    - Syntax: Created using the memoryview() constructor.\n",
    "    - Example: mv = memoryview(b_data)\n",
    "    - Use cases: Memoryview objects are used to access and manipulate the memory of objects in a memory-efficient way, without making a copy of the data. They are commonly used in scenarios where large amounts of data need to be processed without consuming excessive memory, such as in scientific computing or multimedia processing."
   ]
  },
  {
   "cell_type": "code",
   "execution_count": 10,
   "metadata": {},
   "outputs": [
    {
     "data": {
      "text/plain": [
       "b'Hello'"
      ]
     },
     "execution_count": 10,
     "metadata": {},
     "output_type": "execute_result"
    }
   ],
   "source": [
    "b\"Hello\""
   ]
  },
  {
   "cell_type": "code",
   "execution_count": 11,
   "metadata": {},
   "outputs": [
    {
     "data": {
      "text/plain": [
       "bytearray(b'\\x00\\x00\\x00\\x00\\x00')"
      ]
     },
     "execution_count": 11,
     "metadata": {},
     "output_type": "execute_result"
    }
   ],
   "source": [
    "bytearray(5)"
   ]
  },
  {
   "cell_type": "code",
   "execution_count": 12,
   "metadata": {},
   "outputs": [
    {
     "data": {
      "text/plain": [
       "<memory at 0x0000022DE34C2740>"
      ]
     },
     "execution_count": 12,
     "metadata": {},
     "output_type": "execute_result"
    }
   ],
   "source": [
    "memoryview(bytes(6))"
   ]
  },
  {
   "cell_type": "markdown",
   "metadata": {},
   "source": [
    "#### None Type: NoneType "
   ]
  },
  {
   "cell_type": "markdown",
   "metadata": {},
   "source": [
    "## Python Operators"
   ]
  },
  {
   "cell_type": "markdown",
   "metadata": {},
   "source": [
    "- Arithmetic Operators: \n",
    "    - Perform mathematical operations like addition, subtraction, multiplication, division, modulus, exponentiation, and floor division.\n",
    "- Assignment Operators: \n",
    "    - Assign values to variables and perform arithmetic operations at the same time. For example, += adds a value to a variable and assigns the result to the variable.\n",
    "- Comparison Operators: \n",
    "    - Compare values and return True or False based on the comparison. For example, == checks if two values are equal.\n",
    "- Logical Operators: \n",
    "    - Combine multiple conditions and return True or False based on the logical operation. For example, and returns True if both conditions are True.\n",
    "- Identity Operators: \n",
    "    - Compare the memory location of two objects. is returns True if two variables point to the same object.\n",
    "- Membership Operators: \n",
    "    - Check if a value exists in a sequence. For example, in returns True if a value is present in a list.\n",
    "- Bitwise Operators: \n",
    "    - Perform bitwise operations on integers. For example, & performs bitwise AND operation."
   ]
  },
  {
   "cell_type": "code",
   "execution_count": 13,
   "metadata": {},
   "outputs": [
    {
     "name": "stdout",
     "output_type": "stream",
     "text": [
      "False\n",
      "True\n",
      "False\n",
      "True\n",
      "False\n",
      "False\n",
      "False\n",
      "True\n",
      "True\n",
      "True\n"
     ]
    }
   ],
   "source": [
    "#------------------------ Arithmetic Operator ------------------------------------\n",
    "x = 10\n",
    "y = 3\n",
    "addition = x + y\n",
    "subtraction = x - y\n",
    "multiplication = x * y\n",
    "division = x / y\n",
    "modulus = x % y\n",
    "exponentiation = x ** y\n",
    "floor_division = x // y\n",
    "#------------------------ Assignment Operators -----------------------------------#\n",
    "x = 10\n",
    "x += 5  # Equivalent to x = x + 5\n",
    "x -= 3  # Equivalent to x = x - 3\n",
    "x *= 2  # Equivalent to x = x * 2\n",
    "x /= 4  # Equivalent to x = x / 4\n",
    "#------------------------ Comparison Operators -----------------------------------\n",
    "x = 10\n",
    "y = 5\n",
    "print(x == y)  # False\n",
    "print(x > y)   # True\n",
    "print(x < y)   # False\n",
    "#------------------------ Logical Operators -----------------------------------\n",
    "x = 10\n",
    "y = 5\n",
    "z = 15\n",
    "print(x > y and x < z)  # True\n",
    "print(x < y or y > z)   # False\n",
    "print(not(x > y))       # False\n",
    "#------------------------ Identity Operators -----------------------------------\n",
    "x = [1, 2, 3]\n",
    "y = [1, 2, 3]\n",
    "print(x is y)      # False (different memory locations)\n",
    "print(x is not y)  # True\n",
    "#------------------------ Membership Operators: -----------------------------------\n",
    "my_list = [1, 2, 3, 4, 5]\n",
    "print(3 in my_list)     # True\n",
    "print(6 not in my_list) # True\n",
    "#------------------------ Bitwise Operator -----------------------------------\n",
    "x = 10  # Binary representation: 1010\n",
    "y = 6   # Binary representation: 0110\n",
    "bitwise_and = x & y    # Result: 2 (Binary representation: 0010)\n",
    "bitwise_or = x | y     # Result: 14 (Binary representation: 1110)\n",
    "bitwise_xor = x ^ y    # Result: 12 (Binary representation: 1100)\n",
    "bitwise_complement = ~x  # Result: -11 (Binary representation: -1011)\n",
    "left_shift = x << 2    # Result: 40 (Binary representation: 101000)\n",
    "right_shift = x >> 2   # Result: 2 (Binary representation: 10)"
   ]
  },
  {
   "cell_type": "markdown",
   "metadata": {},
   "source": [
    "## Python Conditional Statements"
   ]
  },
  {
   "cell_type": "markdown",
   "metadata": {},
   "source": [
    "- **if** statement_1:\n",
    "    - Execute of statement_1 is True\n",
    "- **elif** statement_2:\n",
    "    - Execute of statement_1 is False and statement_2 is True\n",
    "- **else**: \n",
    "    - Execute if all previous statements are False"
   ]
  },
  {
   "cell_type": "code",
   "execution_count": 14,
   "metadata": {},
   "outputs": [
    {
     "name": "stdout",
     "output_type": "stream",
     "text": [
      "a and b is equal\n"
     ]
    }
   ],
   "source": [
    "if a==a:\n",
    "    print(\"a and b is equal\")\n",
    "else:\n",
    "    print(\" a and b is not equal\")\n"
   ]
  },
  {
   "cell_type": "markdown",
   "metadata": {},
   "source": [
    "## Python Loops"
   ]
  },
  {
   "cell_type": "markdown",
   "metadata": {},
   "source": [
    "- **for** loop = execute a set of statements, once for each item in a list, a tuple, a dictionary, a set, or a string i.e., iterating over a sequence.\n",
    "- **while** loop = execute a set of statements as long as a condition is true"
   ]
  },
  {
   "cell_type": "code",
   "execution_count": 15,
   "metadata": {},
   "outputs": [
    {
     "name": "stdout",
     "output_type": "stream",
     "text": [
      "1\n",
      "2\n",
      "3\n",
      "4\n",
      "5\n",
      "--------------------\n",
      "1\n",
      "2\n",
      "3\n",
      "--------------------\n",
      "1\n",
      "2\n",
      "4\n",
      "5\n",
      "6\n",
      "--------------------\n",
      "1\n",
      "2\n",
      "3\n",
      "4\n",
      "5\n",
      "i is no longer less than 6\n"
     ]
    }
   ],
   "source": [
    "#----------------- while loop --------------------------------\n",
    "# With the while loop we can execute a set of statements as long as a condition is true.\n",
    "# print i as long as i is less than 6\n",
    "i = 1\n",
    "while i < 6:\n",
    "  print(i)\n",
    "  i += 1  # Note: remember to increment i, or else the loop will continue forever.\n",
    "# ----------------------- break statement -------------------------------\n",
    "# With the break statement we can stop the loop even if the while condition is true\n",
    "# Exit the loop when i is 3\n",
    "print(\"-\"*20)\n",
    "i = 1\n",
    "while i < 6:\n",
    "  print(i)\n",
    "  if i == 3:\n",
    "    break\n",
    "  i += 1\n",
    "# ----------------------- continue statement -------------------------------\n",
    "# With the continue statement we can stop the current iteration, and continue with the next\n",
    "# Continue to the next iteration if i is 3\n",
    "print(\"-\"*20)\n",
    "i = 0\n",
    "while i < 6:\n",
    "  i += 1\n",
    "  if i == 3:\n",
    "    continue\n",
    "  print(i)\n",
    "# ----------------------- else statement -------------------------------\n",
    "# With the else statement we can run a block of code once when the condition no longer is true\n",
    "# Print a message once the condition is false\n",
    "print(\"-\"*20)\n",
    "i = 1\n",
    "while i < 6:\n",
    "  print(i)\n",
    "  i += 1\n",
    "else:\n",
    "  print(\"i is no longer less than 6\")"
   ]
  },
  {
   "cell_type": "code",
   "execution_count": 16,
   "metadata": {},
   "outputs": [
    {
     "name": "stdout",
     "output_type": "stream",
     "text": [
      "apple\n",
      "banana\n",
      "cherry\n",
      "--------------------\n",
      "apple\n",
      "banana\n",
      "--------------------\n",
      "apple\n",
      "cherry\n",
      "--------------------\n",
      "--------------------\n",
      "2\n",
      "4\n",
      "--------------------\n",
      "0\n",
      "1\n",
      "2\n",
      "--------------------\n",
      "red apple\n",
      "red banana\n",
      "red cherry\n",
      "big apple\n",
      "big banana\n",
      "big cherry\n",
      "tasty apple\n",
      "tasty banana\n",
      "tasty cherry\n"
     ]
    }
   ],
   "source": [
    "# Print each fruit in a fruit list\n",
    "fruits = [\"apple\", \"banana\", \"cherry\"]\n",
    "for x in fruits:\n",
    "  print(x)\n",
    "# ------------------------- break statement -------------------------\n",
    "print(\"-\"*20)\n",
    "for x in fruits:\n",
    "  print(x)\n",
    "  if x == \"banana\":\n",
    "    break\n",
    "# ------------------------- continue statement -------------------------\n",
    "print(\"-\"*20)\n",
    "for x in fruits:\n",
    "  if x == \"banana\":\n",
    "    continue\n",
    "  print(x)\n",
    "# ------------------------- pass statement -------------------------\n",
    "# for loops cannot be empty, but if you for some reason have a for loop with no content, put in the pass statement to avoid getting an error.\n",
    "print(\"-\"*20)\n",
    "for x in [0, 1, 2]:\n",
    "  pass\n",
    "# ------------------------- range function -----------------------------\n",
    "print(\"-\"*20)\n",
    "for x in range(2,6,2):\n",
    "  print(x)\n",
    "# ------------------------- else keyword -----------------------------\n",
    "# Note: The else block will NOT be executed if the loop is stopped by a break statement.\n",
    "print(\"-\"*20)\n",
    "for x in range(6):\n",
    "  if x == 3: break\n",
    "  print(x)\n",
    "else:\n",
    "  print(\"Finally finished!\")\n",
    "# ------------------------- nested loops  -----------------------------\n",
    "print(\"-\"*20)\n",
    "adj = [\"red\", \"big\", \"tasty\"]\n",
    "fruits = [\"apple\", \"banana\", \"cherry\"]\n",
    "\n",
    "for x in adj:\n",
    "  for y in fruits:\n",
    "    print(x, y)"
   ]
  },
  {
   "cell_type": "markdown",
   "metadata": {},
   "source": [
    "## Python Exception Handling"
   ]
  },
  {
   "cell_type": "markdown",
   "metadata": {},
   "source": [
    "- **try** block: Tests a block of code for errors.\n",
    "- **except** block: Handles errors that occur in the try block.\n",
    "- **else** block: Executes code when there's no error in the try block.\n",
    "- **finally** block: Executes code unconditionally, regardless of whether an error occurred in the try block or was handled by an except block.\n",
    "- **raise** keyword: The raise keyword is used to manually trigger an exception. You can specify the type of error to raise and provide a custom error message to inform the user about the issue."
   ]
  },
  {
   "cell_type": "code",
   "execution_count": 23,
   "metadata": {},
   "outputs": [
    {
     "name": "stdout",
     "output_type": "stream",
     "text": [
      "Division successful! Result: 5.0\n",
      "This code always executes.\n",
      "File not found!\n"
     ]
    },
    {
     "ename": "Exception",
     "evalue": "Sorry, no numbers below zero",
     "output_type": "error",
     "traceback": [
      "\u001b[1;31m---------------------------------------------------------------------------\u001b[0m",
      "\u001b[1;31mException\u001b[0m                                 Traceback (most recent call last)",
      "Cell \u001b[1;32mIn[23], line 32\u001b[0m\n\u001b[0;32m     29\u001b[0m x \u001b[38;5;241m=\u001b[39m \u001b[38;5;241m-\u001b[39m\u001b[38;5;241m1\u001b[39m\n\u001b[0;32m     31\u001b[0m \u001b[38;5;28;01mif\u001b[39;00m x \u001b[38;5;241m<\u001b[39m \u001b[38;5;241m0\u001b[39m:\n\u001b[1;32m---> 32\u001b[0m    \u001b[38;5;28;01mraise\u001b[39;00m \u001b[38;5;167;01mException\u001b[39;00m(\u001b[38;5;124m\"\u001b[39m\u001b[38;5;124mSorry, no numbers below zero\u001b[39m\u001b[38;5;124m\"\u001b[39m)\n\u001b[0;32m     33\u001b[0m \u001b[38;5;66;03m#----------------------------------------------------------------\u001b[39;00m\n\u001b[0;32m     34\u001b[0m \u001b[38;5;66;03m# Define what kind of error to raise, and the text to print to the user.\u001b[39;00m\n\u001b[0;32m     35\u001b[0m x \u001b[38;5;241m=\u001b[39m \u001b[38;5;124m\"\u001b[39m\u001b[38;5;124mhello\u001b[39m\u001b[38;5;124m\"\u001b[39m\n",
      "\u001b[1;31mException\u001b[0m: Sorry, no numbers below zero"
     ]
    }
   ],
   "source": [
    "try:\n",
    "    x = 10 / 2\n",
    "except ZeroDivisionError:\n",
    "    print(\"Error: Division by zero!\")\n",
    "else:\n",
    "    print(\"Division successful! Result:\", x)\n",
    "finally:\n",
    "    print(\"This code always executes.\")\n",
    "\n",
    "# Output:\n",
    "# Division successful! Result: 5.0\n",
    "# This code always executes.\n",
    "#------------------------------------------------------------\n",
    "try:\n",
    "    file = open(\"example.txt\", \"r\")\n",
    "    content = file.read()\n",
    "    print(content)\n",
    "except FileNotFoundError:\n",
    "    print(\"File not found!\")\n",
    "finally:\n",
    "    if 'file' in locals():\n",
    "        file.close()\n",
    "        print(\"File closed.\")\n",
    "\n",
    "# Output:\n",
    "# File not found!\n",
    "#--------------------------------------------------------------\n",
    "# Raise an error and stop the program\n",
    "x = -1\n",
    "\n",
    "if x < 0:\n",
    "   raise Exception(\"Sorry, no numbers below zero\")\n",
    "#----------------------------------------------------------------\n",
    "# Define what kind of error to raise, and the text to print to the user.\n",
    "x = \"hello\"\n",
    "\n",
    "if not isinstance(x, int):\n",
    "    raise TypeError(\"Only integers are allowed\")\n",
    "\n"
   ]
  },
  {
   "cell_type": "markdown",
   "metadata": {},
   "source": [
    "## Python Functions"
   ]
  },
  {
   "cell_type": "markdown",
   "metadata": {},
   "source": [
    "- **def** function: Named block of code, defined with *def*, performs a specific task.\n",
    "- **lambda** function: Anonymous function defined with *lambda*, often used for short expressions or as arguments to other functions.\n",
    "- **map** function: Applies a function to each item in an iterable, returning a new iterable.\n",
    "- **filter** function: Applies a function to each item of an iterable and returns items for which the function returns true.\n",
    "\n",
    "Note:\n",
    "\n",
    "These functions differ in how they handle input and produce output:\n",
    "1. The **def** function directly computes and returns a value.\n",
    "2. The **map**, **lambda**, and **filter** functions return iterable objects that generate values when iterated over.\n",
    "\n"
   ]
  },
  {
   "cell_type": "code",
   "execution_count": 3,
   "metadata": {},
   "outputs": [
    {
     "name": "stdout",
     "output_type": "stream",
     "text": [
      "4\n",
      "<map object at 0x0000022F02C89A80>\n",
      "[False, True, False, True]\n",
      "<filter object at 0x0000022F02C8AA70>\n",
      "[2, 4]\n"
     ]
    }
   ],
   "source": [
    "def add(x, y): return print(x + y)\n",
    "add(1,3)\n",
    "#-----------------------------------------------\n",
    "double = lambda x: x * 2\n",
    "double(3)\n",
    "#-------------------------------------------------\n",
    "numbers = [1, 2, 3, 4]\n",
    "doubled = map(lambda x: x * 2,numbers)\n",
    "doubled_lst = list(map(lambda x:x % 2 == 0, numbers))\n",
    "print(doubled)\n",
    "print(doubled_lst)\n",
    "#--------------------------------------------------\n",
    "numbers = [1, 2, 3, 4]\n",
    "even_numbers = filter(lambda x: x % 2 == 0, numbers)\n",
    "even_numbers_lst = list(filter(lambda x: x % 2 == 0, numbers))\n",
    "print(even_numbers)\n",
    "print(even_numbers_lst)"
   ]
  },
  {
   "cell_type": "markdown",
   "metadata": {},
   "source": [
    "## Python OOPS"
   ]
  },
  {
   "cell_type": "markdown",
   "metadata": {},
   "source": [
    "- **Classes**: Blueprint for creating objects, defining attributes and methods.\n",
    "- **Objects** (Instances): Created from classes, representing specific instances of data.\n",
    "- **Attributes**: Data associated with a class or its instances.\n",
    "- **Methods**: Functions defined within a class, performing actions on the class's data.\n",
    "- **Constructor** (\\_\\_init\\_\\_): Special method initializing object's state, called when instance is created.\n",
    "- **Instance**: Object created from a class, having its own set of data and behavior.\n",
    "- **Self**: Reference to the current instance within class methods, used to access instance attributes and methods.\n",
    "- **Inheritance**: Mechanism where a class (subclass) inherits attributes and methods from another class (superclass), promoting code reusability.\n",
    "- **Encapsulation**: Bundling data and methods within a class, controlling access to the data and preventing external interference.\n",
    "- **Abstraction**: Hiding implementation details, showing only essential features of an object, allowing to focus on what an object does rather than how it does it.\n",
    "- \\_\\_str\\_\\_ method: Custom string representation. It's invoked when the object is converted to a string or when using the print() function."
   ]
  },
  {
   "cell_type": "code",
   "execution_count": 5,
   "metadata": {},
   "outputs": [
    {
     "name": "stdout",
     "output_type": "stream",
     "text": [
      "Alice\n",
      "Name: Bob, Department: Management, Salary: 80000\n",
      "80000\n",
      "Name: Alice, Department: HR, Salary: 50000\n",
      "Department: IT, Location: New York\n"
     ]
    }
   ],
   "source": [
    "# Define a class\n",
    "class Employee:\n",
    "    # Constructor with attributes\n",
    "    def __init__(self, name, department, salary):\n",
    "        self.name = name  # Attribute\n",
    "        self.department = department  # Attribute\n",
    "        self.salary = salary  # Attribute\n",
    "    \n",
    "    # Method to display employee information\n",
    "    def display_info(self):\n",
    "        print(f\"Name: {self.name}, Department: {self.department}, Salary: {self.salary}\")\n",
    "\n",
    "# Define a subclass inheriting from Employee\n",
    "class Manager(Employee):\n",
    "    # Constructor with additional attributes\n",
    "    def __init__(self, name, department, salary, bonus):\n",
    "        super().__init__(name, department, salary)  # Inheritance\n",
    "        self.bonus = bonus  # Additional attribute\n",
    "    \n",
    "    # Method to calculate total salary including bonus\n",
    "    def calculate_total_salary(self):\n",
    "        return self.salary + self.bonus\n",
    "\n",
    "# Create instances of classes\n",
    "employee1 = Employee(\"Alice\", \"HR\", 50000)\n",
    "manager1 = Manager(\"Bob\", \"Management\", 80000, 10000)\n",
    "\n",
    "# Access attributes and call methods\n",
    "print(employee1.name)  # Output: Alice (Attribute)\n",
    "manager1.display_info()  # Output: Name: Bob, Department: Management, Salary: 80000 (Method)\n",
    "total_salary = manager1.calculate_total_salary()  # Output: 90000 (Inheritance + Method)\n",
    "\n",
    "# Encapsulation - Accessing attributes directly (Attribute)\n",
    "print(manager1.salary)  # Output: 80000\n",
    "\n",
    "# Abstraction - Hiding implementation details (Method)\n",
    "employee1.display_info()  # Output: Name: Alice, Department: HR, Salary: 50000\n",
    "\n",
    "# __str__ method - Custom string representation\n",
    "class Department:\n",
    "    def __init__(self, name, location):\n",
    "        self.name = name\n",
    "        self.location = location\n",
    "    \n",
    "    def __str__(self):\n",
    "        return f\"Department: {self.name}, Location: {self.location}\"\n",
    "\n",
    "dept = Department(\"IT\", \"New York\")\n",
    "print(dept)  # Output: Department: IT, Location: New York\n"
   ]
  },
  {
   "cell_type": "markdown",
   "metadata": {},
   "source": [
    "## Python Decorators"
   ]
  },
  {
   "cell_type": "markdown",
   "metadata": {},
   "source": [
    "*Python decorators* are higher-order functions that take another function as an argument and return a new function. They are denoted by the **@decorator_name** syntax, which is placed above the function definition."
   ]
  },
  {
   "cell_type": "code",
   "execution_count": 4,
   "metadata": {},
   "outputs": [
    {
     "name": "stdout",
     "output_type": "stream",
     "text": [
      "Something is happening before the function is called.\n",
      "Hello!\n",
      "Something is happening after the function is called.\n"
     ]
    }
   ],
   "source": [
    "def my_decorator(func):\n",
    "    def wrapper():\n",
    "        print(\"Something is happening before the function is called.\")\n",
    "        func()\n",
    "        print(\"Something is happening after the function is called.\")\n",
    "    return wrapper\n",
    "\n",
    "@my_decorator\n",
    "def say_hello():\n",
    "    print(\"Hello!\")\n",
    "\n",
    "say_hello()\n"
   ]
  },
  {
   "cell_type": "markdown",
   "metadata": {},
   "source": [
    "## Python Error Types"
   ]
  },
  {
   "cell_type": "markdown",
   "metadata": {},
   "source": [
    "**Error types** refer to the different categories of errors that can occur in a Python program, including syntax errors, runtime errors (exceptions), and logical errors.\n",
    "\n",
    "1. **SyntaxError**:\n",
    "    - *Description*: Syntax errors occur when the Python interpreter encounters code that violates the language syntax rules. These errors prevent the code from being executed.\n",
    "    - *Example*: Missing a colon at the end of an if statement.\n",
    "2. **IndentationError**:\n",
    "    - *Description*: Indentation errors occur when the code is not properly indented. Python relies on indentation to define block structures, so incorrect indentation can lead to errors.\n",
    "    - *Example*: Inconsistent indentation within a block of code.\n",
    "3. **NameError**:\n",
    "    - *Description*: Name errors occur when the code tries to access a variable or function that is not defined or out of scope.\n",
    "    - *Example*: Trying to access a variable that hasn't been declared.\n",
    "4. **TypeError**:\n",
    "    - *Description*: Type errors occur when an operation is performed on an object of inappropriate data type.\n",
    "    - *Example*: Trying to concatenate a string with an integer without converting the integer to a string.\n",
    "5. **IndexError**:\n",
    "    - *Description*: Index errors occur when trying to access an index that is out of range for a sequence (e.g., list, tuple, string).\n",
    "    - *Example*: Trying to access an element of a list at an index that does not exist.\n",
    "6. **KeyError**:\n",
    "    - *Description*: Key errors occur when trying to access a key in a dictionary that does not exist.\n",
    "    - *Example*: Trying to access a non-existent key in a dictionary.\n",
    "7. **ValueError**:\n",
    "    - *Description*: Value errors occur when a function receives an argument with the correct data type but an inappropriate value.\n",
    "    - *Example*: Trying to convert a string to an integer when the string does not represent a valid integer.\n",
    "8. **ZeroDivisionError**:\n",
    "    - *Description*: Zero division errors occur when trying to divide a number by zero.\n",
    "    - *Example*: Trying to divide a number by zero.\n",
    "9. **FileNotFoundError**:\n",
    "    - *Description*: File not found errors occur when trying to access a file that does not exist.\n",
    "    - *Example*: Trying to open a file for reading that does not exist in the specified location.\n",
    "10. **ImportError**:\n",
    "    - *Description*: Import errors occur when Python cannot import a module or package.\n",
    "    - *Example*: Trying to import a module that does not exist or is not installed.\n",
    "\n",
    "*Note:* These error types cover a range of common issues encountered when writing Python code, and understanding them is essential for effective debugging and troubleshooting."
   ]
  },
  {
   "cell_type": "code",
   "execution_count": 6,
   "metadata": {},
   "outputs": [
    {
     "ename": "SyntaxError",
     "evalue": "expected ':' (24607124.py, line 2)",
     "output_type": "error",
     "traceback": [
      "\u001b[1;36m  Cell \u001b[1;32mIn[6], line 2\u001b[1;36m\u001b[0m\n\u001b[1;33m    if x == 5\u001b[0m\n\u001b[1;37m             ^\u001b[0m\n\u001b[1;31mSyntaxError\u001b[0m\u001b[1;31m:\u001b[0m expected ':'\n"
     ]
    }
   ],
   "source": [
    "# SyntaxError: Missing colon\n",
    "if x == 5\n",
    "    print(\"x is 5\")\n",
    "#------------------------------------------------------------\n",
    "# IndentationError: Inconsistent indentation\n",
    "for i in range(3):\n",
    "print(i)\n",
    "#---------------------------------------------------------------\n",
    "# NameError: Variable not defined\n",
    "print(nonexistent_variable)\n",
    "#---------------------------------------------------------------\n",
    "# TypeError: Unsupported operation\n",
    "result = \"Hello\" + 123\n",
    "\n",
    "# IndexError: Index out of range\n",
    "my_list = [1, 2, 3]\n",
    "print(my_list[3])\n",
    "\n",
    "# KeyError: Key not found in dictionary\n",
    "my_dict = {'a': 1, 'b': 2}\n",
    "print(my_dict['c'])\n",
    "\n",
    "# ValueError: Invalid value\n",
    "num = int(\"abc\")\n",
    "\n",
    "# ZeroDivisionError: Division by zero\n",
    "result = 10 / 0\n",
    "\n",
    "# FileNotFoundError: File not found\n",
    "with open('nonexistent_file.txt', 'r') as file:\n",
    "    content = file.read()\n",
    "\n",
    "# ImportError: Module not found\n",
    "import nonexistent_module\n"
   ]
  },
  {
   "cell_type": "markdown",
   "metadata": {},
   "source": [
    "## Requests"
   ]
  },
  {
   "cell_type": "markdown",
   "metadata": {},
   "source": [
    "The **Requests** *library* is used for making HTTP requests in Python, providing a simple and intuitive API for sending requests and handling responses."
   ]
  },
  {
   "cell_type": "code",
   "execution_count": 10,
   "metadata": {},
   "outputs": [
    {
     "name": "stdout",
     "output_type": "stream",
     "text": [
      "HTTP error occurred: 404 Client Error: Not Found for url: https://example.com/api/data\n"
     ]
    }
   ],
   "source": [
    "import requests\n",
    "\n",
    "url = 'https://example.com/api/data'\n",
    "response = requests.get(url)\n",
    "\n",
    "try:\n",
    "    # Check if the response was successful\n",
    "    response.raise_for_status()\n",
    "    \n",
    "    # Try to decode JSON data\n",
    "    data = response.json()\n",
    "    print(data)\n",
    "    \n",
    "except requests.exceptions.HTTPError as http_err:\n",
    "    print(f'HTTP error occurred: {http_err}')\n",
    "    \n",
    "except ValueError as val_err:\n",
    "    print(f'JSON decoding error occurred: {val_err}')\n"
   ]
  },
  {
   "cell_type": "markdown",
   "metadata": {},
   "source": [
    "## Web Scraping"
   ]
  },
  {
   "cell_type": "markdown",
   "metadata": {},
   "source": [
    "**Web scraping** involves extracting data from websites by fetching HTML content, parsing it, and extracting relevant information. It is commonly used for data collection, research, and automation tasks."
   ]
  },
  {
   "cell_type": "code",
   "execution_count": 7,
   "metadata": {},
   "outputs": [
    {
     "name": "stdout",
     "output_type": "stream",
     "text": [
      "Title: Example Domain\n"
     ]
    }
   ],
   "source": [
    "import requests\n",
    "from bs4 import BeautifulSoup\n",
    "\n",
    "# Send an HTTP GET request to the website\n",
    "url = 'https://example.com'\n",
    "response = requests.get(url)\n",
    "\n",
    "# Parse the HTML content\n",
    "soup = BeautifulSoup(response.content, 'html.parser')\n",
    "\n",
    "# Extract specific information from the webpage\n",
    "title = soup.title.text\n",
    "print(\"Title:\", title)\n"
   ]
  },
  {
   "cell_type": "markdown",
   "metadata": {},
   "source": [
    "## Working with Files"
   ]
  },
  {
   "cell_type": "markdown",
   "metadata": {},
   "source": [
    "Working with files involves **reading** from and **writing** to files on disk, using built-in functions and methods provided by Python."
   ]
  },
  {
   "cell_type": "code",
   "execution_count": 13,
   "metadata": {},
   "outputs": [
    {
     "name": "stdout",
     "output_type": "stream",
     "text": [
      "File Content: ,col1,col3\n",
      "0,x,1\n",
      "1,a,2\n",
      "2,c,3\n",
      "\n"
     ]
    }
   ],
   "source": [
    "# Open a file in read mode\n",
    "with open('Test.csv', 'r') as file:\n",
    "    # Read contents of the file\n",
    "    data = file.read()\n",
    "    print(\"File Content:\", data)\n",
    "\n",
    "# Open a file in write mode\n",
    "with open('Test_copy.csv', 'w') as file:\n",
    "    # Write data to the file\n",
    "    file.write(\"Hello, world!\")\n"
   ]
  }
 ],
 "metadata": {
  "kernelspec": {
   "display_name": "Python 3",
   "language": "python",
   "name": "python3"
  },
  "language_info": {
   "codemirror_mode": {
    "name": "ipython",
    "version": 3
   },
   "file_extension": ".py",
   "mimetype": "text/x-python",
   "name": "python",
   "nbconvert_exporter": "python",
   "pygments_lexer": "ipython3",
   "version": "3.11.3"
  }
 },
 "nbformat": 4,
 "nbformat_minor": 2
}
